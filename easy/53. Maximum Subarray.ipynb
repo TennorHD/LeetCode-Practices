{
 "cells": [
  {
   "cell_type": "markdown",
   "metadata": {},
   "source": [
    "Given an integer array nums, find the contiguous subarray (containing at least one number) which has the largest sum and return its sum."
   ]
  },
  {
   "cell_type": "code",
   "execution_count": 19,
   "metadata": {},
   "outputs": [],
   "source": [
    "from typing import List\n",
    "class Solution:\n",
    "    def maxSubArray(self, nums: List[int]) -> int:\n",
    "        if (len(nums)==1 or max(nums)<=0): return max(nums)\n",
    "        cs = nums[0]\n",
    "        m = nums[0]\n",
    "        ans = nums[0]\n",
    "        for ii in nums[1:]:\n",
    "            cs += ii # cs = sum(nums[:ii+1])\n",
    "            print('1',ii,':',m,cs)\n",
    "            m = min(m,cs) # m will store the lowest value of cumulated sum up to ii\n",
    "            print('2',ii,':',ans,cs,m,cs-m,cs)\n",
    "            ans = max(ans, max(cs-m,cs)) # ans will store the highest sum calculated in the history\n",
    "            print('3',ii,':',ans)\n",
    "        return ans\n",
    "    \n",
    "s = Solution()"
   ]
  },
  {
   "cell_type": "code",
   "execution_count": 20,
   "metadata": {},
   "outputs": [
    {
     "name": "stdout",
     "output_type": "stream",
     "text": [
      "1 1 : -2 -1\n",
      "2 1 : -2 -1 -2 1 -1\n",
      "3 1 : 1\n",
      "1 -3 : -2 -4\n",
      "2 -3 : 1 -4 -4 0 -4\n",
      "3 -3 : 1\n",
      "1 4 : -4 0\n",
      "2 4 : 1 0 -4 4 0\n",
      "3 4 : 4\n",
      "1 -1 : -4 -1\n",
      "2 -1 : 4 -1 -4 3 -1\n",
      "3 -1 : 4\n",
      "1 2 : -4 1\n",
      "2 2 : 4 1 -4 5 1\n",
      "3 2 : 5\n",
      "1 1 : -4 2\n",
      "2 1 : 5 2 -4 6 2\n",
      "3 1 : 6\n",
      "1 -5 : -4 -3\n",
      "2 -5 : 6 -3 -4 1 -3\n",
      "3 -5 : 6\n",
      "1 4 : -4 1\n",
      "2 4 : 6 1 -4 5 1\n",
      "3 4 : 6\n"
     ]
    },
    {
     "data": {
      "text/plain": [
       "6"
      ]
     },
     "execution_count": 20,
     "metadata": {},
     "output_type": "execute_result"
    }
   ],
   "source": [
    "s.maxSubArray([-2,1,-3,4,-1,2,1,-5,4])"
   ]
  }
 ],
 "metadata": {
  "kernelspec": {
   "display_name": "Python 3",
   "language": "python",
   "name": "python3"
  },
  "language_info": {
   "codemirror_mode": {
    "name": "ipython",
    "version": 3
   },
   "file_extension": ".py",
   "mimetype": "text/x-python",
   "name": "python",
   "nbconvert_exporter": "python",
   "pygments_lexer": "ipython3",
   "version": "3.7.4"
  }
 },
 "nbformat": 4,
 "nbformat_minor": 2
}
