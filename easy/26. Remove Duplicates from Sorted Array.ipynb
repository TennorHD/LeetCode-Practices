{
 "cells": [
  {
   "cell_type": "markdown",
   "metadata": {},
   "source": [
    "Given a sorted array nums, remove the duplicates in-place such that each element appear only once and return the new length.\n",
    "\n",
    "Do not allocate extra space for another array, you must do this by modifying the input array in-place with O(1) extra memory."
   ]
  },
  {
   "cell_type": "code",
   "execution_count": 26,
   "metadata": {},
   "outputs": [],
   "source": [
    "from typing import List\n",
    "class Solution:\n",
    "    #1180ms 15.6mb\n",
    "    def removeDuplicates(self, nums: List[int]) -> int:\n",
    "        i=0\n",
    "        while i < len(nums):\n",
    "            print(nums)\n",
    "            while i<len(nums)-1 and nums[i] == nums[i+1]:\n",
    "                nums.remove(nums[i])\n",
    "            i+=1\n",
    "        return len(nums)\n",
    "    #80ms 15.7mb\n",
    "    def removeDuplicates_anotherApproach(self, nums: List[int]) -> int:\n",
    "        i=1\n",
    "        if not nums:\n",
    "            return 0\n",
    "        for ii in range(1,len(nums)):\n",
    "            if nums[ii]!=nums[ii-1]:\n",
    "                nums[i] = nums[ii]\n",
    "                i += 1\n",
    "        # nums = nums[:i] \n",
    "        del nums[i:] # delete from the source\n",
    "        return len(nums)\n",
    "s = Solution()"
   ]
  },
  {
   "cell_type": "code",
   "execution_count": 20,
   "metadata": {},
   "outputs": [
    {
     "name": "stdout",
     "output_type": "stream",
     "text": [
      "[0, 0, 1, 1, 1, 2, 2, 3, 3, 4]\n",
      "[0, 1, 1, 1, 2, 2, 3, 3, 4]\n",
      "[0, 1, 2, 2, 3, 3, 4]\n",
      "[0, 1, 2, 3, 3, 4]\n",
      "[0, 1, 2, 3, 4]\n",
      "5 [0, 1, 2, 3, 4]\n"
     ]
    }
   ],
   "source": [
    "nums = [0,0,1,1,1,2,2,3,3,4]\n",
    "num = s.removeDuplicates(nums)\n",
    "print(num, nums)"
   ]
  },
  {
   "cell_type": "code",
   "execution_count": 27,
   "metadata": {},
   "outputs": [
    {
     "name": "stdout",
     "output_type": "stream",
     "text": [
      "[0, 1, 2, 3, 4]\n",
      "5 [0, 1, 2, 3, 4]\n"
     ]
    }
   ],
   "source": [
    "nums = [0,0,1,1,1,2,2,3,3,4]\n",
    "num = s.removeDuplicates_anotherApproach(nums)\n",
    "print(num, nums)"
   ]
  }
 ],
 "metadata": {
  "kernelspec": {
   "display_name": "Python 3",
   "language": "python",
   "name": "python3"
  },
  "language_info": {
   "codemirror_mode": {
    "name": "ipython",
    "version": 3
   },
   "file_extension": ".py",
   "mimetype": "text/x-python",
   "name": "python",
   "nbconvert_exporter": "python",
   "pygments_lexer": "ipython3",
   "version": "3.7.4"
  }
 },
 "nbformat": 4,
 "nbformat_minor": 2
}
