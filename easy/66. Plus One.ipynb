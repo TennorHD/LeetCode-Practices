{
 "cells": [
  {
   "cell_type": "markdown",
   "metadata": {},
   "source": [
    "Given a non-empty array of digits representing a non-negative integer, plus one to the integer.\n",
    "\n",
    "The digits are stored such that the most significant digit is at the head of the list, and each element in the array contain a single digit.\n",
    "\n",
    "You may assume the integer does not contain any leading zero, except the number 0 itself."
   ]
  },
  {
   "cell_type": "code",
   "execution_count": null,
   "metadata": {},
   "outputs": [],
   "source": [
    "from typing import List\n",
    "class Solution:\n",
    "    #28ms 14mb\n",
    "    def plusOne(self, digits: List[int]) -> List[int]:\n",
    "        digits[-1]+=1\n",
    "        i = len(digits)-1\n",
    "        while i >= 0:\n",
    "            if digits[i] > 9:\n",
    "                if i>0:\n",
    "                    digits[i-1]+=1\n",
    "                    digits[i]=0\n",
    "                else:\n",
    "                    digits[i] = 0\n",
    "                    digits.insert(0,1)\n",
    "                i-=1\n",
    "            else: break\n",
    "            \n",
    "        return digits"
   ]
  }
 ],
 "metadata": {
  "kernelspec": {
   "display_name": "Python 3",
   "language": "python",
   "name": "python3"
  },
  "language_info": {
   "codemirror_mode": {
    "name": "ipython",
    "version": 3
   },
   "file_extension": ".py",
   "mimetype": "text/x-python",
   "name": "python",
   "nbconvert_exporter": "python",
   "pygments_lexer": "ipython3",
   "version": "3.7.4"
  }
 },
 "nbformat": 4,
 "nbformat_minor": 2
}
