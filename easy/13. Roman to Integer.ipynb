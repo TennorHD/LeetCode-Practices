{
 "cells": [
  {
   "cell_type": "markdown",
   "metadata": {},
   "source": [
    "Roman numerals are represented by seven different symbols: I, V, X, L, C, D and M."
   ]
  },
  {
   "cell_type": "code",
   "execution_count": 9,
   "metadata": {},
   "outputs": [],
   "source": [
    "from typing import List\n",
    "class Solution:\n",
    "    def romanToInt(self, s: str) -> int:\n",
    "        rom = ['I','V','X','L','C','D','M']\n",
    "        i = [1,5,10,50,100,500,1000]\n",
    "        dic = dict(zip(rom,i))\n",
    "        \n",
    "        ans = 0\n",
    "        s = list(s)\n",
    "        pointer = len(s) - 1\n",
    "        while pointer >= 0:\n",
    "            temp = dic[s[pointer]]\n",
    "            if pointer-1 < 0:\n",
    "                ans += temp\n",
    "            else:\n",
    "                if temp <= dic[s[pointer-1]]:\n",
    "                    ans += temp\n",
    "                else:\n",
    "                    temp -= dic[s[pointer-1]]\n",
    "                    pointer -= 1\n",
    "                    ans += temp\n",
    "            pointer -= 1\n",
    "        return ans\n",
    "s = Solution()"
   ]
  },
  {
   "cell_type": "code",
   "execution_count": 13,
   "metadata": {},
   "outputs": [
    {
     "data": {
      "text/plain": [
       "15"
      ]
     },
     "execution_count": 13,
     "metadata": {},
     "output_type": "execute_result"
    }
   ],
   "source": [
    "s.romanToInt('XV')"
   ]
  }
 ],
 "metadata": {
  "kernelspec": {
   "display_name": "Python 3",
   "language": "python",
   "name": "python3"
  },
  "language_info": {
   "codemirror_mode": {
    "name": "ipython",
    "version": 3
   },
   "file_extension": ".py",
   "mimetype": "text/x-python",
   "name": "python",
   "nbconvert_exporter": "python",
   "pygments_lexer": "ipython3",
   "version": "3.7.4"
  }
 },
 "nbformat": 4,
 "nbformat_minor": 2
}
