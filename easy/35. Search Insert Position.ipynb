{
 "cells": [
  {
   "cell_type": "markdown",
   "metadata": {},
   "source": [
    "Given a sorted array and a target value, return the index if the target is found. If not, return the index where it would be if it were inserted in order.\n",
    "\n",
    "You may assume no duplicates in the array."
   ]
  },
  {
   "cell_type": "code",
   "execution_count": 22,
   "metadata": {},
   "outputs": [],
   "source": [
    "from typing import List\n",
    "class Solution:\n",
    "    # binary\n",
    "    # 60ms 14.5mb\n",
    "    def searchInsert(self, nums: List[int], target: int) -> int:\n",
    "        if all([x>target for x in nums]):\n",
    "            return 0\n",
    "        if all([x<target for x in nums]):\n",
    "            return len(nums)\n",
    "        l = 0\n",
    "        r = len(nums)-1\n",
    "        while l <= r:\n",
    "            m = (l+r)//2\n",
    "            if target == nums[m]:\n",
    "                return m\n",
    "            elif target > nums[m]:\n",
    "                l = m + 1\n",
    "                if target < nums[l]:\n",
    "                    return l\n",
    "            else:\n",
    "                r = m - 1\n",
    "                if target > nums[r]:\n",
    "                    return m\n",
    "    \n",
    "s = Solution()"
   ]
  },
  {
   "cell_type": "code",
   "execution_count": 24,
   "metadata": {},
   "outputs": [
    {
     "data": {
      "text/plain": [
       "2"
      ]
     },
     "execution_count": 24,
     "metadata": {},
     "output_type": "execute_result"
    }
   ],
   "source": [
    "s.searchInsert([1,3,5,6], 5)"
   ]
  }
 ],
 "metadata": {
  "kernelspec": {
   "display_name": "Python 3",
   "language": "python",
   "name": "python3"
  },
  "language_info": {
   "codemirror_mode": {
    "name": "ipython",
    "version": 3
   },
   "file_extension": ".py",
   "mimetype": "text/x-python",
   "name": "python",
   "nbconvert_exporter": "python",
   "pygments_lexer": "ipython3",
   "version": "3.7.4"
  }
 },
 "nbformat": 4,
 "nbformat_minor": 2
}
