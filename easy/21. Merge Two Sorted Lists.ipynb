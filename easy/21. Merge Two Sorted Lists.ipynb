{
 "cells": [
  {
   "cell_type": "markdown",
   "metadata": {},
   "source": [
    "Merge two sorted linked lists and return it as a new sorted list. The new list should be made by splicing together the nodes of the first two lists."
   ]
  },
  {
   "cell_type": "code",
   "execution_count": 38,
   "metadata": {},
   "outputs": [],
   "source": [
    "# Definition for singly-linked list.\n",
    "class ListNode:\n",
    "    def __init__(self, val=0, _next=None):\n",
    "        self.val = val\n",
    "        self.next = _next\n",
    "class Solution:\n",
    "    # 40ms 14mb\n",
    "    def mergeTwoLists(self, l1: ListNode, l2: ListNode) -> ListNode:\n",
    "        sortedList = None\n",
    "        lastptr = None\n",
    "        while (l1 != None) or (l2 != None):\n",
    "            if l1 == None:\n",
    "                if sortedList == None and lastptr == None:\n",
    "                    return l2\n",
    "                else:\n",
    "                    lastptr.next = l2\n",
    "                    lastptr = lastptr.next\n",
    "                    l2 = None\n",
    "            elif l2 == None:\n",
    "                if sortedList == None and lastptr == None:\n",
    "                    return l1\n",
    "                else:\n",
    "                    lastptr.next = l1\n",
    "                    lastptr = lastptr.next\n",
    "                    l1 = None\n",
    "            else:\n",
    "#                 printAll(l1)\n",
    "#                 printAll(l2)\n",
    "#                 print('sorted:')\n",
    "#                 printAll(sortedList)\n",
    "                if l1.val <= l2.val:\n",
    "                    if lastptr == None:\n",
    "                        sortedList = ListNode(l1.val)\n",
    "                        lastptr = sortedList\n",
    "                    else:\n",
    "                        lastptr.next = ListNode(l1.val)\n",
    "                        lastptr = lastptr.next\n",
    "                    l1 = l1.next\n",
    "                else:\n",
    "                    if lastptr == None:\n",
    "                        sortedList = ListNode(l2.val)\n",
    "                        lastptr = sortedList\n",
    "                    else:\n",
    "                        lastptr.next = ListNode(l2.val)\n",
    "                        lastptr = lastptr.next\n",
    "                    l2 = l2.next\n",
    "#         printAll(sortedList)\n",
    "        return sortedList\n",
    "                    \n",
    "s = Solution()"
   ]
  },
  {
   "cell_type": "code",
   "execution_count": 39,
   "metadata": {},
   "outputs": [
    {
     "name": "stdout",
     "output_type": "stream",
     "text": [
      "\n",
      "[1, 2, 5]\n",
      "[1, 4, 6]\n",
      "sorted:\n",
      "[]\n",
      "[2, 5]\n",
      "[1, 4, 6]\n",
      "sorted:\n",
      "[1]\n",
      "[2, 5]\n",
      "[4, 6]\n",
      "sorted:\n",
      "[1, 1]\n",
      "[5]\n",
      "[4, 6]\n",
      "sorted:\n",
      "[1, 1, 2]\n",
      "[5]\n",
      "[6]\n",
      "sorted:\n",
      "[1, 1, 2, 4]\n",
      "[1, 1, 2, 4, 5, 6]\n",
      "[1, 1, 2, 4, 5, 6]\n"
     ]
    }
   ],
   "source": [
    "class ListNode:\n",
    "    def __init__(self, val=0, _next=None):\n",
    "        self.val = val\n",
    "        self.next = _next\n",
    "\n",
    "def makeNodes(x):\n",
    "    firstNode = ListNode(x[0])\n",
    "    lastptr = firstNode\n",
    "    for i in x[1:]:\n",
    "        lastptr.next = ListNode(i)\n",
    "        lastptr = lastptr.next\n",
    "    return firstNode\n",
    "\n",
    "def printAll(x):\n",
    "    a = []\n",
    "    while x != None:\n",
    "        a.append(x.val)\n",
    "        x = x.next\n",
    "    print(a)\n",
    "    \n",
    "a = makeNodes([1,2,5])\n",
    "b = makeNodes([1,4,6])\n",
    "print()\n",
    "printAll(s.mergeTwoLists(a,b))"
   ]
  }
 ],
 "metadata": {
  "kernelspec": {
   "display_name": "Python 3",
   "language": "python",
   "name": "python3"
  },
  "language_info": {
   "codemirror_mode": {
    "name": "ipython",
    "version": 3
   },
   "file_extension": ".py",
   "mimetype": "text/x-python",
   "name": "python",
   "nbconvert_exporter": "python",
   "pygments_lexer": "ipython3",
   "version": "3.7.4"
  }
 },
 "nbformat": 4,
 "nbformat_minor": 2
}
