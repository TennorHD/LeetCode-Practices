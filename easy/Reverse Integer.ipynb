{
 "cells": [
  {
   "cell_type": "code",
   "execution_count": 92,
   "metadata": {},
   "outputs": [],
   "source": [
    "from typing import List\n",
    "class Solution:\n",
    "    def reverse(self, x: int) -> int:\n",
    "        ans = ''\n",
    "        rev = []\n",
    "        inp = list(str(x))\n",
    "        if len(inp) > 1:\n",
    "            temp = []\n",
    "            for n in inp:\n",
    "                if n == '-':\n",
    "                    ans += n\n",
    "                else:\n",
    "                    temp.append(n)\n",
    "                    if n != '0':\n",
    "                        for a in temp:\n",
    "                            rev.insert(0, a)\n",
    "                        temp.clear()\n",
    "        elif len(inp)==1:\n",
    "            rev = inp\n",
    "        ans += ''.join(rev)\n",
    "        ans = int(ans)\n",
    "        if (ans >= -(2**31))and (ans<=(2**31 -1)):\n",
    "            return ans\n",
    "        else:\n",
    "            return 0\n",
    "    \n",
    "    '''\n",
    "    Complexity Analysis\n",
    "\n",
    "    Time Complexity: O(log(x)). There are roughly log_{10}(x)digits in x.\n",
    "    Space Complexity: O(1).\n",
    "    '''\n",
    "    def reverse_example(self, x: int) -> int:\n",
    "        rev = 0\n",
    "        flag = False\n",
    "        if x < 0:\n",
    "            flag = True\n",
    "            x = abs(x)\n",
    "        \n",
    "        while (x != 0):\n",
    "            pop = x % 10\n",
    "            x //= 10\n",
    "            rev = rev * 10 + pop\n",
    "            if not (((rev >= -(2**31)) and (rev<=(2**31 -1)))):\n",
    "                return 0\n",
    "        \n",
    "        if flag:\n",
    "            rev *= -1\n",
    "        \n",
    "        return rev\n",
    "s = Solution()"
   ]
  },
  {
   "cell_type": "code",
   "execution_count": 94,
   "metadata": {
    "scrolled": true
   },
   "outputs": [
    {
     "name": "stdout",
     "output_type": "stream",
     "text": [
      "120 8\n",
      "12 80\n",
      "1 802\n",
      "0 8021\n"
     ]
    },
    {
     "data": {
      "text/plain": [
       "-8021"
      ]
     },
     "execution_count": 94,
     "metadata": {},
     "output_type": "execute_result"
    }
   ],
   "source": [
    "s.reverse_example(-1208)"
   ]
  }
 ],
 "metadata": {
  "kernelspec": {
   "display_name": "Python 3",
   "language": "python",
   "name": "python3"
  },
  "language_info": {
   "codemirror_mode": {
    "name": "ipython",
    "version": 3
   },
   "file_extension": ".py",
   "mimetype": "text/x-python",
   "name": "python",
   "nbconvert_exporter": "python",
   "pygments_lexer": "ipython3",
   "version": "3.7.4"
  }
 },
 "nbformat": 4,
 "nbformat_minor": 2
}
