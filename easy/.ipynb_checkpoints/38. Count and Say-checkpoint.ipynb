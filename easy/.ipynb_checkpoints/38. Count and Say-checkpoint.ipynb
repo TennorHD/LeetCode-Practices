{
 "cells": [
  {
   "cell_type": "markdown",
   "metadata": {},
   "source": [
    "The count-and-say sequence is the sequence of integers with the first five terms as following:\n",
    "\n",
    "> 1.     1\n",
    "> 2.     11\n",
    "> 3.     21\n",
    "> 4.     1211\n",
    "> 5.     111221\n",
    "\n",
    "1 is read off as \"one 1\" or 11.\n",
    "11 is read off as \"two 1s\" or 21.\n",
    "21 is read off as \"one 2, then one 1\" or 1211.\n",
    "\n",
    "Given an integer n where 1 ≤ n ≤ 30, generate the nth term of the count-and-say sequence. You can do so recursively, in other words from the previous member read off the digits, counting the number of digits in groups of the same digit.\n",
    "\n",
    "Note: Each term of the sequence of integers will be represented as a string."
   ]
  },
  {
   "cell_type": "code",
   "execution_count": 23,
   "metadata": {},
   "outputs": [],
   "source": [
    "class Solution:\n",
    "    # 28ms 13.8mb\n",
    "    def countAndSay(self, n: int) -> str:\n",
    "        # base case\n",
    "        if n == 1:\n",
    "            return '1'\n",
    "        par = self.countAndSay(n-1)\n",
    "        \n",
    "        ans = ''\n",
    "        ii = 0\n",
    "        while ii<len(par):\n",
    "            jj = ii\n",
    "            while jj < len(par) and par[jj] == par[ii]:\n",
    "                jj += 1\n",
    "            ans += str(len(par[ii:jj])) + str(par[ii])\n",
    "            ii = jj\n",
    "        return ans\n",
    "s = Solution()"
   ]
  },
  {
   "cell_type": "code",
   "execution_count": 27,
   "metadata": {},
   "outputs": [
    {
     "data": {
      "text/plain": [
       "'111221'"
      ]
     },
     "execution_count": 27,
     "metadata": {},
     "output_type": "execute_result"
    }
   ],
   "source": [
    "s.countAndSay(5)"
   ]
  }
 ],
 "metadata": {
  "kernelspec": {
   "display_name": "Python 3",
   "language": "python",
   "name": "python3"
  },
  "language_info": {
   "codemirror_mode": {
    "name": "ipython",
    "version": 3
   },
   "file_extension": ".py",
   "mimetype": "text/x-python",
   "name": "python",
   "nbconvert_exporter": "python",
   "pygments_lexer": "ipython3",
   "version": "3.7.4"
  }
 },
 "nbformat": 4,
 "nbformat_minor": 2
}
