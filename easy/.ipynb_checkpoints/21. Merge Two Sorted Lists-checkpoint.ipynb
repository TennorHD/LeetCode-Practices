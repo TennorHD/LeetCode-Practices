{
 "cells": [
  {
   "cell_type": "markdown",
   "metadata": {},
   "source": [
    "Merge two sorted linked lists and return it as a new sorted list. The new list should be made by splicing together the nodes of the first two lists."
   ]
  },
  {
   "cell_type": "code",
   "execution_count": null,
   "metadata": {},
   "outputs": [],
   "source": [
    "# Definition for singly-linked list.\n",
    "class ListNode:\n",
    "    def __init__(self, val=0, _next=None):\n",
    "        self.val = val\n",
    "        self.next = _next\n",
    "class Solution:\n",
    "    def mergeTwoLists(self, l1: ListNode, l2: ListNode) -> ListNode:\n",
    "        sortedList = None\n",
    "        while (l1 != None) or (l2 != None):\n",
    "            if l1 == None:\n",
    "                if sortedList == None:\n",
    "                    return l2\n",
    "                else:\n",
    "                    sortedList.next = l2\n",
    "                    l2 = None\n",
    "            else:\n",
    "                if sortedList == None:\n",
    "                    return l1\n",
    "                else:\n",
    "                    sortedList.next = l1\n",
    "            "
   ]
  },
  {
   "cell_type": "code",
   "execution_count": null,
   "metadata": {},
   "outputs": [],
   "source": [
    "class ListNode:\n",
    "    def __init__(self, val=0, _next=None):\n",
    "        self.val = val\n",
    "        self.next = _next\n",
    "a = ListNode()"
   ]
  }
 ],
 "metadata": {
  "kernelspec": {
   "display_name": "Python 3",
   "language": "python",
   "name": "python3"
  },
  "language_info": {
   "codemirror_mode": {
    "name": "ipython",
    "version": 3
   },
   "file_extension": ".py",
   "mimetype": "text/x-python",
   "name": "python",
   "nbconvert_exporter": "python",
   "pygments_lexer": "ipython3",
   "version": "3.7.4"
  }
 },
 "nbformat": 4,
 "nbformat_minor": 2
}
