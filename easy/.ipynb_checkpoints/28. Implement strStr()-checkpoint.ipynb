{
 "cells": [
  {
   "cell_type": "markdown",
   "metadata": {},
   "source": [
    "Implement strStr().\n",
    "\n",
    "Return the index of the first occurrence of needle in haystack, or -1 if needle is not part of haystack."
   ]
  },
  {
   "cell_type": "code",
   "execution_count": 16,
   "metadata": {},
   "outputs": [],
   "source": [
    "from typing import List\n",
    "class Solution:\n",
    "    def strStr(self, haystack: str, needle: str) -> int:\n",
    "        if not needle: return 0\n",
    "        \n",
    "        ii , jj = 0,0\n",
    "        while ii < len(haystack):\n",
    "            if (haystack[ii]==needle[jj]):\n",
    "                ii += 1\n",
    "                jj += 1\n",
    "                if jj == len(needle):\n",
    "                    return ii-jj\n",
    "            else:\n",
    "                ii = ii - jj + 1\n",
    "                jj = 0\n",
    "        return -1\n",
    "    \n",
    "    def strStr_KMP(self, haystack: str, needle: str) -> int:\n",
    "        \"\"\"Knuth-Morris-Pratt algo (1977)\"\"\"\n",
    "        if not needle: return 0 #edge case \n",
    "        \n",
    "        # pattern preprocessing\n",
    "        lps = [0]*len(needle) #longest prefix-suffix table \n",
    "        k = 0\n",
    "        for i in range(1, len(needle)): \n",
    "            while k and needle[k] != needle[i]: k = lps[k-1]\n",
    "            if needle[k] == needle[i]: k += 1\n",
    "            lps[i] = k \n",
    "            \n",
    "        k = 0\n",
    "        for i in range(len(haystack)): \n",
    "            while k and needle[k] != haystack[i]: k = lps[k-1]\n",
    "            if needle[k] == haystack[i]: k += 1\n",
    "            if k == len(needle): return i - len(needle) + 1\n",
    "        return -1\n",
    "    \n",
    "s = Solution()"
   ]
  },
  {
   "cell_type": "code",
   "execution_count": 17,
   "metadata": {},
   "outputs": [
    {
     "data": {
      "text/plain": [
       "4"
      ]
     },
     "execution_count": 17,
     "metadata": {},
     "output_type": "execute_result"
    }
   ],
   "source": [
    "s.strStr(\"mississippi\",\"issip\")"
   ]
  },
  {
   "cell_type": "code",
   "execution_count": 6,
   "metadata": {},
   "outputs": [],
   "source": [
    "ii, jj = 0, 0"
   ]
  }
 ],
 "metadata": {
  "kernelspec": {
   "display_name": "Python 3",
   "language": "python",
   "name": "python3"
  },
  "language_info": {
   "codemirror_mode": {
    "name": "ipython",
    "version": 3
   },
   "file_extension": ".py",
   "mimetype": "text/x-python",
   "name": "python",
   "nbconvert_exporter": "python",
   "pygments_lexer": "ipython3",
   "version": "3.7.4"
  }
 },
 "nbformat": 4,
 "nbformat_minor": 2
}
