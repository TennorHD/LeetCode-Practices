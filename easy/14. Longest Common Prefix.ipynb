{
 "cells": [
  {
   "cell_type": "markdown",
   "metadata": {},
   "source": [
    "https://leetcode.com/articles/longest-common-prefix/"
   ]
  },
  {
   "cell_type": "code",
   "execution_count": 39,
   "metadata": {},
   "outputs": [],
   "source": [
    "from typing import List\n",
    "class Solution:\n",
    "    # 32ms 13.9mb\n",
    "    def longestCommonPrefix(self, strs: List[str]) -> str:\n",
    "        l = [len(x) for x in strs]\n",
    "        com = ''\n",
    "        temp = ''\n",
    "        counter = 0\n",
    "        if len(l)>0:\n",
    "            length = min(l)\n",
    "        else:\n",
    "            length = 0\n",
    "        while counter<length:\n",
    "            temp += strs[0][counter]\n",
    "            if all([True if (temp in x[:counter+1]) else False for x in strs]):\n",
    "                com = temp\n",
    "                counter += 1\n",
    "            else:\n",
    "                break\n",
    "        return com\n",
    "    \n",
    "    # Horizontal Scanning\n",
    "    '''\n",
    "    Complexity Analysis\n",
    "\n",
    "    Time complexity : O(S) , where S is the sum of all characters in all strings.\n",
    "\n",
    "    In the worst case all nn strings are the same. The algorithm compares the \n",
    "    string S1 with the other strings [S_2,...,S_n] There are S character comparisons,\n",
    "    where S is the sum of all characters in the input array.\n",
    "\n",
    "    Space complexity : O(1). We only used constant extra space.\n",
    "    '''\n",
    "    # 32ms 14.1mb\n",
    "    def lcp_horizontal(self, strs: List[str]) -> str:\n",
    "        if len(strs) == 0:\n",
    "            return ''\n",
    "        prefix = strs[0]\n",
    "        for i in range(1,len(strs)):\n",
    "            if len(prefix) > len(strs[i]):\n",
    "                prefix = prefix[:len(strs[i])]\n",
    "            while (strs[i][:len(prefix)]!=prefix):\n",
    "                prefix = prefix[:len(prefix)-1]\n",
    "                if prefix=='':\n",
    "                    return ''\n",
    "        return prefix\n",
    "    \n",
    "    '''\n",
    "    time: O(S) n number of strings with length m\n",
    "    space: O(1)\n",
    "    '''\n",
    "    # 32ms 13.9mb\n",
    "    def lcp_vertical(self, strs: List[str]) -> str:\n",
    "        if len(strs) == 0:\n",
    "            return ''\n",
    "        for i in range(len(strs[0])):\n",
    "            c = strs[0][i]\n",
    "            for x in strs:\n",
    "                if (i==len(x) or x[i]!=c):\n",
    "                    return strs[0][:i]\n",
    "        return strs[0]\n",
    "    \n",
    "    '''\n",
    "    time: O(S) S = n*m where n number of strings with length m\n",
    "    space: O(m * log n)\n",
    "    '''\n",
    "    # 32ms 14mb\n",
    "    def lcp_divide_conquer(self, strs: List[str]) -> str:\n",
    "        def commonPrefix(lcpLeft,lcpRight):\n",
    "            m = min(len(lcpLeft),len(lcpRight))\n",
    "            for ii in range(m):\n",
    "                if(lcpLeft[ii]!=lcpRight[ii]):\n",
    "                    return lcpLeft[:ii]\n",
    "            return lcpLeft[:m]\n",
    "        def lcp(strs, l, r):\n",
    "            if l == r:\n",
    "                return strs[l]\n",
    "            else:\n",
    "                mid = (l+r)//2\n",
    "                lcpLeft = lcp(strs,l,mid)\n",
    "                lcpRight = lcp(strs,mid+1,r)\n",
    "            return commonPrefix(lcpLeft,lcpRight)\n",
    "        if (strs == None or len(strs)==0):\n",
    "            return ''\n",
    "        return lcp(strs,0,len(strs)-1)\n",
    "    \n",
    "                \n",
    "s = Solution()"
   ]
  },
  {
   "cell_type": "code",
   "execution_count": 38,
   "metadata": {},
   "outputs": [
    {
     "data": {
      "text/plain": [
       "'i'"
      ]
     },
     "execution_count": 38,
     "metadata": {},
     "output_type": "execute_result"
    }
   ],
   "source": [
    "s.lcp_divide_conquer([\"in\",\"ink\",\"i\",'iink'])"
   ]
  }
 ],
 "metadata": {
  "kernelspec": {
   "display_name": "Python 3",
   "language": "python",
   "name": "python3"
  },
  "language_info": {
   "codemirror_mode": {
    "name": "ipython",
    "version": 3
   },
   "file_extension": ".py",
   "mimetype": "text/x-python",
   "name": "python",
   "nbconvert_exporter": "python",
   "pygments_lexer": "ipython3",
   "version": "3.7.4"
  }
 },
 "nbformat": 4,
 "nbformat_minor": 2
}
