{
 "cells": [
  {
   "cell_type": "markdown",
   "metadata": {},
   "source": [
    "Given a string containing just the characters '(', ')', '{', '}', '[' and ']', determine if the input string is valid.\n",
    "\n",
    "An input string is valid if:\n",
    "\n",
    "1. Open brackets must be closed by the same type of brackets.\n",
    "2. Open brackets must be closed in the correct order.\n",
    "\n",
    "Note that an empty string is also considered valid."
   ]
  },
  {
   "cell_type": "code",
   "execution_count": 21,
   "metadata": {},
   "outputs": [],
   "source": [
    "from typing import List\n",
    "class Solution:\n",
    "    # 56ms 14mb\n",
    "    def isValid(self, s: str) -> bool:\n",
    "        # stack\n",
    "        # push when open parenthesis\n",
    "        # pop when close parenthesis which is on the top of the stack\n",
    "        \n",
    "        # build dictionary\n",
    "        ALL = ['(', ')', '{', '}', '[', ']']\n",
    "        open_par = {ALL[x*2]:x for x in range(3)}\n",
    "        close_par = {x:ALL[x*2+1] for x in range(3)}\n",
    "        \n",
    "        stack = []\n",
    "        while s or stack:\n",
    "            if not s and stack: # if pop can no longer be done\n",
    "                return False\n",
    "            if s[0] in open_par.keys(): # if it's open parenthesis and its not the last element\n",
    "                if len(s) == 1:\n",
    "                    return False\n",
    "                stack.append(open_par[s[0]]) # push its id\n",
    "                s = s[1:]\n",
    "#                 print('push', s, stack)\n",
    "            else: # if it's close parenthesis\n",
    "                if not stack:\n",
    "                    return False\n",
    "                if close_par[stack[-1]] == s[0]:\n",
    "                    # pop stack\n",
    "                    stack = stack[:-1]\n",
    "                    s = s[1:]\n",
    "#                     print('pop', s, stack)\n",
    "                else:\n",
    "                    return False\n",
    "        return True\n",
    "    \n",
    "    # 20ms 13.9mb\n",
    "    def anotherStack(self, s: str) -> bool:\n",
    "        ALL = ['(', ')', '{', '}', '[', ']']\n",
    "        mappin = {ALL[x*2]:ALL[x*2+1] for x in range(3)} # too lazy to type again\n",
    "        \n",
    "        stack = []\n",
    "        for x in s:\n",
    "            if x in mappin:\n",
    "                stack.append(x)\n",
    "            elif stack and x == mappin[stack[-1]]:\n",
    "                stack.pop()\n",
    "            else:\n",
    "                return False\n",
    "        return stack == []\n",
    "    \n",
    "    \n",
    "    def yetAnotherStack(self, s: str) -> bool:\n",
    "        mappin = {\"(\": \")\", \"[\": \"]\",  \"{\": \"}\"}\n",
    "        \n",
    "        stack = []\n",
    "        for x in s:\n",
    "            if x in mappin:\n",
    "                stack.append(x)\n",
    "            elif stack and x == mappin[stack[-1]]:\n",
    "                stack.pop()\n",
    "            else:\n",
    "                return False\n",
    "        return stack == []\n",
    "        \n",
    "s = Solution()"
   ]
  },
  {
   "cell_type": "code",
   "execution_count": 24,
   "metadata": {},
   "outputs": [
    {
     "data": {
      "text/plain": [
       "False"
      ]
     },
     "execution_count": 24,
     "metadata": {},
     "output_type": "execute_result"
    }
   ],
   "source": [
    "s.isValid(\"(\")"
   ]
  },
  {
   "cell_type": "code",
   "execution_count": 26,
   "metadata": {},
   "outputs": [
    {
     "data": {
      "text/plain": [
       "False"
      ]
     },
     "execution_count": 26,
     "metadata": {},
     "output_type": "execute_result"
    }
   ],
   "source": [
    "\n",
    "ALL = ['(', ')', '{', '}', '[', ']']\n",
    "mappin = {ALL[x*2]:ALL[x*2+1] for x in range(3)} # too lazy to type again\n",
    "')' in mappin"
   ]
  }
 ],
 "metadata": {
  "kernelspec": {
   "display_name": "Python 3",
   "language": "python",
   "name": "python3"
  },
  "language_info": {
   "codemirror_mode": {
    "name": "ipython",
    "version": 3
   },
   "file_extension": ".py",
   "mimetype": "text/x-python",
   "name": "python",
   "nbconvert_exporter": "python",
   "pygments_lexer": "ipython3",
   "version": "3.7.4"
  }
 },
 "nbformat": 4,
 "nbformat_minor": 2
}
