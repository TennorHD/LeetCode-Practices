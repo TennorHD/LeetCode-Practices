{
 "cells": [
  {
   "cell_type": "markdown",
   "metadata": {},
   "source": [
    "Determine whether an integer is a palindrome. An integer is a palindrome when it reads the same backward as forward."
   ]
  },
  {
   "cell_type": "code",
   "execution_count": 27,
   "metadata": {},
   "outputs": [],
   "source": [
    "from typing import List\n",
    "class Solution:\n",
    "    def isPalindrome(self, x: int) -> bool:\n",
    "        right = 0\n",
    "        count = 0\n",
    "        flag = False\n",
    "        if (x>=0) and (x/10 < 1):\n",
    "            flag = True\n",
    "        while x > 0:\n",
    "            pop = x % 10\n",
    "            x //= 10\n",
    "            if count > 0 and x > 0 and right == x:\n",
    "                flag = True\n",
    "                break\n",
    "            else:\n",
    "                right = right * 10 + pop\n",
    "                if right == x:\n",
    "                    flag = True\n",
    "                    break\n",
    "                count +=1\n",
    "        return flag\n",
    "    \n",
    "    # 80ms 13.6mb\n",
    "    def isPalindrome_reverse(self, x: int) -> bool:\n",
    "        n = x\n",
    "        rev = 0 \n",
    "        while n>0:\n",
    "            pop = n % 10\n",
    "            n //= 10\n",
    "            rev = rev*10+pop\n",
    "        return x == rev\n",
    "    \n",
    "    # 64ms 13.6mb\n",
    "    def isPalindrome_sol(self, x: int) -> bool:\n",
    "        if( x<0 or (x%10==0 and x!=0) ):\n",
    "            return False\n",
    "        rev = 0\n",
    "        while (x>rev):\n",
    "            rev = rev * 10 + x % 10\n",
    "            x //= 10\n",
    "        return x == rev or x == rev//10\n",
    "s = Solution()"
   ]
  },
  {
   "cell_type": "code",
   "execution_count": 29,
   "metadata": {},
   "outputs": [
    {
     "data": {
      "text/plain": [
       "True"
      ]
     },
     "execution_count": 29,
     "metadata": {},
     "output_type": "execute_result"
    }
   ],
   "source": [
    "s.isPalindrome_sol(1001)"
   ]
  }
 ],
 "metadata": {
  "kernelspec": {
   "display_name": "Python 3",
   "language": "python",
   "name": "python3"
  },
  "language_info": {
   "codemirror_mode": {
    "name": "ipython",
    "version": 3
   },
   "file_extension": ".py",
   "mimetype": "text/x-python",
   "name": "python",
   "nbconvert_exporter": "python",
   "pygments_lexer": "ipython3",
   "version": "3.7.4"
  }
 },
 "nbformat": 4,
 "nbformat_minor": 2
}
