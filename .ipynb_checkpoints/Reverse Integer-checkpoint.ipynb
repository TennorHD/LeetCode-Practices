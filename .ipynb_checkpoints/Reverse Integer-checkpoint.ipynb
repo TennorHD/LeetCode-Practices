{
 "cells": [
  {
   "cell_type": "code",
   "execution_count": 52,
   "metadata": {},
   "outputs": [],
   "source": [
    "from typing import List\n",
    "class Solution:\n",
    "    def reverse(self, x: int) -> int:\n",
    "        ans = ''\n",
    "        rev = []\n",
    "        inp = list(str(x))\n",
    "        if len(inp) > 1:\n",
    "            temp = []\n",
    "            for n in inp:\n",
    "                if n == '-':\n",
    "                    ans += n\n",
    "                else:\n",
    "                    temp.append(n)\n",
    "                    if n != '0':\n",
    "                        for a in temp:\n",
    "                            rev.insert(0, a)\n",
    "                        temp.clear()\n",
    "        elif len(inp)==1:\n",
    "            rev = inp\n",
    "        ans += ''.join(rev)\n",
    "        ans = int(ans)\n",
    "        if (ans >= -(2**31))and (ans<=(2**31 -1)):\n",
    "            return ans\n",
    "        else:\n",
    "            return 0\n",
    "    \n",
    "    '''\n",
    "    Complexity Analysis\n",
    "\n",
    "    Time Complexity: O(log(x)). There are roughly log_{10}(x)digits in x.\n",
    "    Space Complexity: O(1).\n",
    "    '''\n",
    "    def reverse_example(self, x: int) -> int:\n",
    "        rev = 0\n",
    "        while (x != 0):\n",
    "            pop = x % 10\n",
    "            x /= 10\n",
    "            if (rev >= -(2**31))and (rev<=(2**31 -1)):\n",
    "                return 0\n",
    "            rev = rev * 10 + pop\n",
    "        return rev"
   ]
  },
  {
   "cell_type": "code",
   "execution_count": 53,
   "metadata": {},
   "outputs": [],
   "source": [
    "s = Solution()"
   ]
  },
  {
   "cell_type": "code",
   "execution_count": 57,
   "metadata": {},
   "outputs": [
    {
     "data": {
      "text/plain": [
       "0"
      ]
     },
     "execution_count": 57,
     "metadata": {},
     "output_type": "execute_result"
    }
   ],
   "source": [
    "s.reverse_example(-1208)"
   ]
  },
  {
   "cell_type": "code",
   "execution_count": 41,
   "metadata": {},
   "outputs": [
    {
     "data": {
      "text/plain": [
       "2147483648"
      ]
     },
     "execution_count": 41,
     "metadata": {},
     "output_type": "execute_result"
    }
   ],
   "source": [
    "2**31"
   ]
  }
 ],
 "metadata": {
  "kernelspec": {
   "display_name": "Python 3",
   "language": "python",
   "name": "python3"
  },
  "language_info": {
   "codemirror_mode": {
    "name": "ipython",
    "version": 3
   },
   "file_extension": ".py",
   "mimetype": "text/x-python",
   "name": "python",
   "nbconvert_exporter": "python",
   "pygments_lexer": "ipython3",
   "version": "3.7.4"
  }
 },
 "nbformat": 4,
 "nbformat_minor": 2
}
