{
 "cells": [
  {
   "cell_type": "code",
   "execution_count": 12,
   "metadata": {},
   "outputs": [],
   "source": [
    "from typing import List\n",
    "class Solution:\n",
    "    def twoSum_self(self, nums: List[int], target: int) -> List[int]:\n",
    "        ans = []\n",
    "        print('ori: ',nums)\n",
    "        for ii in range(len(nums)):\n",
    "            a = [nums[kk]+nums[ii] for kk in range(len(nums)) if kk != ii ]\n",
    "            ind = [x for x in range(len(nums)) if x != ii]\n",
    "            print(a, ind)\n",
    "            if target in a:\n",
    "                for jj in range(len(ind)):\n",
    "                    if a[jj] == target:\n",
    "                        ans.append(ind[jj])\n",
    "                        print(ii, ind[jj])\n",
    "                        break\n",
    "                ans.insert(0,ii)\n",
    "                break\n",
    "        return ans\n",
    "    \n",
    "    '''\n",
    "    Brute force\n",
    "    -----\n",
    "    Time:(O(n^2))\n",
    "    Space: O(1)\n",
    "    \n",
    "    '''\n",
    "    def twoSum_brute(self, nums: List[int], target: int) -> List[int]:\n",
    "        for ii in range(len(nums)):\n",
    "            for jj in range(ii+1,len(nums)):\n",
    "                if(nums[jj]== target-nums[ii]):\n",
    "                    return [ii,jj]\n",
    "    \n",
    "    def twoSum_twoPassHashTable(self, nums: List[int], target: int) -> List[int]:\n",
    "        dic = {nums[ii]:ii for ii in range(len(nums))}\n",
    "        for ii in range(len(nums)):\n",
    "            comp = target - nums[ii]\n",
    "            if (comp in dic.keys() and dic[comp]!= ii):\n",
    "                return [ii, dic[comp]]\n",
    "    '''\n",
    "    Complexity Analysis:\n",
    "\n",
    "    Time complexity : O(n). \n",
    "    We traverse the list containing nn elements only once. \n",
    "    Each look up in the table costs only O(1) time.\n",
    "\n",
    "    Space complexity : O(n). \n",
    "    The extra space required depends on the number of items \n",
    "    stored in the hash table, which stores at most n element.\n",
    "    '''\n",
    "    def twoSum_onePassHashTable(self, nums: List[int], target: int) -> List[int]:\n",
    "        dic = dict()\n",
    "        for ii in range(len(nums)):\n",
    "            comp = target - nums[ii]\n",
    "            if (comp in dic.keys() and dic[comp]!= ii):\n",
    "                return [ii, dic[comp]]\n",
    "            else:\n",
    "                dic[nums[ii]] = ii\n",
    "    \n",
    "s = Solution()"
   ]
  },
  {
   "cell_type": "code",
   "execution_count": 16,
   "metadata": {},
   "outputs": [
    {
     "data": {
      "text/plain": [
       "{'a': 0}"
      ]
     },
     "execution_count": 16,
     "metadata": {},
     "output_type": "execute_result"
    }
   ],
   "source": [
    "x = dict()\n",
    "x['a'] = 0\n",
    "x"
   ]
  }
 ],
 "metadata": {
  "kernelspec": {
   "display_name": "Python 3",
   "language": "python",
   "name": "python3"
  },
  "language_info": {
   "codemirror_mode": {
    "name": "ipython",
    "version": 3
   },
   "file_extension": ".py",
   "mimetype": "text/x-python",
   "name": "python",
   "nbconvert_exporter": "python",
   "pygments_lexer": "ipython3",
   "version": "3.7.4"
  }
 },
 "nbformat": 4,
 "nbformat_minor": 2
}
